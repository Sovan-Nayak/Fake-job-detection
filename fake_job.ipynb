{
 "cells": [
  {
   "cell_type": "code",
   "execution_count": 1,
   "metadata": {},
   "outputs": [],
   "source": [
    "import pandas as pd\n",
    "import numpy as np\n",
    "np.set_printoptions(suppress=True)"
   ]
  },
  {
   "cell_type": "markdown",
   "metadata": {},
   "source": [
    "# Reading the data"
   ]
  },
  {
   "cell_type": "code",
   "execution_count": 3,
   "metadata": {},
   "outputs": [
    {
     "name": "stdout",
     "output_type": "stream",
     "text": [
      "Before deleting duplicate values (17880, 18)\n",
      "After deleting duplicate values (17880, 18)\n"
     ]
    },
    {
     "data": {
      "text/html": [
       "<div>\n",
       "<style scoped>\n",
       "    .dataframe tbody tr th:only-of-type {\n",
       "        vertical-align: middle;\n",
       "    }\n",
       "\n",
       "    .dataframe tbody tr th {\n",
       "        vertical-align: top;\n",
       "    }\n",
       "\n",
       "    .dataframe thead th {\n",
       "        text-align: right;\n",
       "    }\n",
       "</style>\n",
       "<table border=\"1\" class=\"dataframe\">\n",
       "  <thead>\n",
       "    <tr style=\"text-align: right;\">\n",
       "      <th></th>\n",
       "      <th>job_id</th>\n",
       "      <th>title</th>\n",
       "      <th>location</th>\n",
       "      <th>department</th>\n",
       "      <th>salary_range</th>\n",
       "      <th>company_profile</th>\n",
       "      <th>description</th>\n",
       "      <th>requirements</th>\n",
       "      <th>benefits</th>\n",
       "      <th>telecommuting</th>\n",
       "      <th>has_company_logo</th>\n",
       "      <th>has_questions</th>\n",
       "      <th>employment_type</th>\n",
       "      <th>required_experience</th>\n",
       "      <th>required_education</th>\n",
       "      <th>industry</th>\n",
       "      <th>function</th>\n",
       "      <th>fraudulent</th>\n",
       "    </tr>\n",
       "  </thead>\n",
       "  <tbody>\n",
       "    <tr>\n",
       "      <td>0</td>\n",
       "      <td>1</td>\n",
       "      <td>Marketing Intern</td>\n",
       "      <td>US, NY, New York</td>\n",
       "      <td>Marketing</td>\n",
       "      <td>NaN</td>\n",
       "      <td>We're Food52, and we've created a groundbreaki...</td>\n",
       "      <td>Food52, a fast-growing, James Beard Award-winn...</td>\n",
       "      <td>Experience with content management systems a m...</td>\n",
       "      <td>NaN</td>\n",
       "      <td>0</td>\n",
       "      <td>1</td>\n",
       "      <td>0</td>\n",
       "      <td>Other</td>\n",
       "      <td>Internship</td>\n",
       "      <td>NaN</td>\n",
       "      <td>NaN</td>\n",
       "      <td>Marketing</td>\n",
       "      <td>0</td>\n",
       "    </tr>\n",
       "    <tr>\n",
       "      <td>1</td>\n",
       "      <td>2</td>\n",
       "      <td>Customer Service - Cloud Video Production</td>\n",
       "      <td>NZ, , Auckland</td>\n",
       "      <td>Success</td>\n",
       "      <td>NaN</td>\n",
       "      <td>90 Seconds, the worlds Cloud Video Production ...</td>\n",
       "      <td>Organised - Focused - Vibrant - Awesome!Do you...</td>\n",
       "      <td>What we expect from you:Your key responsibilit...</td>\n",
       "      <td>What you will get from usThrough being part of...</td>\n",
       "      <td>0</td>\n",
       "      <td>1</td>\n",
       "      <td>0</td>\n",
       "      <td>Full-time</td>\n",
       "      <td>Not Applicable</td>\n",
       "      <td>NaN</td>\n",
       "      <td>Marketing and Advertising</td>\n",
       "      <td>Customer Service</td>\n",
       "      <td>0</td>\n",
       "    </tr>\n",
       "    <tr>\n",
       "      <td>2</td>\n",
       "      <td>3</td>\n",
       "      <td>Commissioning Machinery Assistant (CMA)</td>\n",
       "      <td>US, IA, Wever</td>\n",
       "      <td>NaN</td>\n",
       "      <td>NaN</td>\n",
       "      <td>Valor Services provides Workforce Solutions th...</td>\n",
       "      <td>Our client, located in Houston, is actively se...</td>\n",
       "      <td>Implement pre-commissioning and commissioning ...</td>\n",
       "      <td>NaN</td>\n",
       "      <td>0</td>\n",
       "      <td>1</td>\n",
       "      <td>0</td>\n",
       "      <td>NaN</td>\n",
       "      <td>NaN</td>\n",
       "      <td>NaN</td>\n",
       "      <td>NaN</td>\n",
       "      <td>NaN</td>\n",
       "      <td>0</td>\n",
       "    </tr>\n",
       "    <tr>\n",
       "      <td>3</td>\n",
       "      <td>4</td>\n",
       "      <td>Account Executive - Washington DC</td>\n",
       "      <td>US, DC, Washington</td>\n",
       "      <td>Sales</td>\n",
       "      <td>NaN</td>\n",
       "      <td>Our passion for improving quality of life thro...</td>\n",
       "      <td>THE COMPANY: ESRI – Environmental Systems Rese...</td>\n",
       "      <td>EDUCATION: Bachelor’s or Master’s in GIS, busi...</td>\n",
       "      <td>Our culture is anything but corporate—we have ...</td>\n",
       "      <td>0</td>\n",
       "      <td>1</td>\n",
       "      <td>0</td>\n",
       "      <td>Full-time</td>\n",
       "      <td>Mid-Senior level</td>\n",
       "      <td>Bachelor's Degree</td>\n",
       "      <td>Computer Software</td>\n",
       "      <td>Sales</td>\n",
       "      <td>0</td>\n",
       "    </tr>\n",
       "    <tr>\n",
       "      <td>4</td>\n",
       "      <td>5</td>\n",
       "      <td>Bill Review Manager</td>\n",
       "      <td>US, FL, Fort Worth</td>\n",
       "      <td>NaN</td>\n",
       "      <td>NaN</td>\n",
       "      <td>SpotSource Solutions LLC is a Global Human Cap...</td>\n",
       "      <td>JOB TITLE: Itemization Review ManagerLOCATION:...</td>\n",
       "      <td>QUALIFICATIONS:RN license in the State of Texa...</td>\n",
       "      <td>Full Benefits Offered</td>\n",
       "      <td>0</td>\n",
       "      <td>1</td>\n",
       "      <td>1</td>\n",
       "      <td>Full-time</td>\n",
       "      <td>Mid-Senior level</td>\n",
       "      <td>Bachelor's Degree</td>\n",
       "      <td>Hospital &amp; Health Care</td>\n",
       "      <td>Health Care Provider</td>\n",
       "      <td>0</td>\n",
       "    </tr>\n",
       "  </tbody>\n",
       "</table>\n",
       "</div>"
      ],
      "text/plain": [
       "   job_id                                      title            location  \\\n",
       "0       1                           Marketing Intern    US, NY, New York   \n",
       "1       2  Customer Service - Cloud Video Production      NZ, , Auckland   \n",
       "2       3    Commissioning Machinery Assistant (CMA)       US, IA, Wever   \n",
       "3       4          Account Executive - Washington DC  US, DC, Washington   \n",
       "4       5                        Bill Review Manager  US, FL, Fort Worth   \n",
       "\n",
       "  department salary_range                                    company_profile  \\\n",
       "0  Marketing          NaN  We're Food52, and we've created a groundbreaki...   \n",
       "1    Success          NaN  90 Seconds, the worlds Cloud Video Production ...   \n",
       "2        NaN          NaN  Valor Services provides Workforce Solutions th...   \n",
       "3      Sales          NaN  Our passion for improving quality of life thro...   \n",
       "4        NaN          NaN  SpotSource Solutions LLC is a Global Human Cap...   \n",
       "\n",
       "                                         description  \\\n",
       "0  Food52, a fast-growing, James Beard Award-winn...   \n",
       "1  Organised - Focused - Vibrant - Awesome!Do you...   \n",
       "2  Our client, located in Houston, is actively se...   \n",
       "3  THE COMPANY: ESRI – Environmental Systems Rese...   \n",
       "4  JOB TITLE: Itemization Review ManagerLOCATION:...   \n",
       "\n",
       "                                        requirements  \\\n",
       "0  Experience with content management systems a m...   \n",
       "1  What we expect from you:Your key responsibilit...   \n",
       "2  Implement pre-commissioning and commissioning ...   \n",
       "3  EDUCATION: Bachelor’s or Master’s in GIS, busi...   \n",
       "4  QUALIFICATIONS:RN license in the State of Texa...   \n",
       "\n",
       "                                            benefits  telecommuting  \\\n",
       "0                                                NaN              0   \n",
       "1  What you will get from usThrough being part of...              0   \n",
       "2                                                NaN              0   \n",
       "3  Our culture is anything but corporate—we have ...              0   \n",
       "4                              Full Benefits Offered              0   \n",
       "\n",
       "   has_company_logo  has_questions employment_type required_experience  \\\n",
       "0                 1              0           Other          Internship   \n",
       "1                 1              0       Full-time      Not Applicable   \n",
       "2                 1              0             NaN                 NaN   \n",
       "3                 1              0       Full-time    Mid-Senior level   \n",
       "4                 1              1       Full-time    Mid-Senior level   \n",
       "\n",
       "  required_education                   industry              function  \\\n",
       "0                NaN                        NaN             Marketing   \n",
       "1                NaN  Marketing and Advertising      Customer Service   \n",
       "2                NaN                        NaN                   NaN   \n",
       "3  Bachelor's Degree          Computer Software                 Sales   \n",
       "4  Bachelor's Degree     Hospital & Health Care  Health Care Provider   \n",
       "\n",
       "   fraudulent  \n",
       "0           0  \n",
       "1           0  \n",
       "2           0  \n",
       "3           0  \n",
       "4           0  "
      ]
     },
     "execution_count": 3,
     "metadata": {},
     "output_type": "execute_result"
    }
   ],
   "source": [
    "Fake_Job = pd.read_csv('C:/Users/sovon/Desktop/Python/ML Datasets/DONE!/real-or-fake-fake-jobposting-prediction/fake_job_postings.csv')\n",
    "print('Before deleting duplicate values', Fake_Job.shape)\n",
    "Fake_Job = Fake_Job.drop_duplicates()\n",
    "print('After deleting duplicate values', Fake_Job.shape)\n",
    "Fake_Job.head()"
   ]
  },
  {
   "cell_type": "markdown",
   "metadata": {},
   "source": [
    "# EDA"
   ]
  },
  {
   "cell_type": "code",
   "execution_count": 4,
   "metadata": {},
   "outputs": [
    {
     "name": "stdout",
     "output_type": "stream",
     "text": [
      "<class 'pandas.core.frame.DataFrame'>\n",
      "Int64Index: 17880 entries, 0 to 17879\n",
      "Data columns (total 18 columns):\n",
      "job_id                 17880 non-null int64\n",
      "title                  17880 non-null object\n",
      "location               17534 non-null object\n",
      "department             6333 non-null object\n",
      "salary_range           2868 non-null object\n",
      "company_profile        14572 non-null object\n",
      "description            17879 non-null object\n",
      "requirements           15185 non-null object\n",
      "benefits               10670 non-null object\n",
      "telecommuting          17880 non-null int64\n",
      "has_company_logo       17880 non-null int64\n",
      "has_questions          17880 non-null int64\n",
      "employment_type        14409 non-null object\n",
      "required_experience    10830 non-null object\n",
      "required_education     9775 non-null object\n",
      "industry               12977 non-null object\n",
      "function               11425 non-null object\n",
      "fraudulent             17880 non-null int64\n",
      "dtypes: int64(5), object(13)\n",
      "memory usage: 2.6+ MB\n"
     ]
    }
   ],
   "source": [
    "Fake_Job.info()"
   ]
  },
  {
   "cell_type": "code",
   "execution_count": 5,
   "metadata": {},
   "outputs": [
    {
     "data": {
      "text/plain": [
       "job_id                 17880\n",
       "title                  11231\n",
       "location                3105\n",
       "department              1337\n",
       "salary_range             874\n",
       "company_profile         1709\n",
       "description            14801\n",
       "requirements           11968\n",
       "benefits                6205\n",
       "telecommuting              2\n",
       "has_company_logo           2\n",
       "has_questions              2\n",
       "employment_type            5\n",
       "required_experience        7\n",
       "required_education        13\n",
       "industry                 131\n",
       "function                  37\n",
       "fraudulent                 2\n",
       "dtype: int64"
      ]
     },
     "execution_count": 5,
     "metadata": {},
     "output_type": "execute_result"
    }
   ],
   "source": [
    "Fake_Job.nunique()"
   ]
  },
  {
   "cell_type": "code",
   "execution_count": 6,
   "metadata": {},
   "outputs": [
    {
     "data": {
      "text/plain": [
       "Index(['job_id', 'title', 'location', 'department', 'salary_range',\n",
       "       'company_profile', 'description', 'requirements', 'benefits',\n",
       "       'telecommuting', 'has_company_logo', 'has_questions', 'employment_type',\n",
       "       'required_experience', 'required_education', 'industry', 'function',\n",
       "       'fraudulent'],\n",
       "      dtype='object')"
      ]
     },
     "execution_count": 6,
     "metadata": {},
     "output_type": "execute_result"
    }
   ],
   "source": [
    "# Removing useless columns\n",
    "Fake_Job.columns"
   ]
  },
  {
   "cell_type": "code",
   "execution_count": 7,
   "metadata": {},
   "outputs": [],
   "source": [
    "Fake_Job.drop(['job_id', 'title', 'location', 'department', 'salary_range',\n",
    "       'company_profile', 'description', 'requirements', 'benefits'], axis=1, inplace=True)"
   ]
  },
  {
   "cell_type": "code",
   "execution_count": 8,
   "metadata": {},
   "outputs": [
    {
     "data": {
      "text/html": [
       "<div>\n",
       "<style scoped>\n",
       "    .dataframe tbody tr th:only-of-type {\n",
       "        vertical-align: middle;\n",
       "    }\n",
       "\n",
       "    .dataframe tbody tr th {\n",
       "        vertical-align: top;\n",
       "    }\n",
       "\n",
       "    .dataframe thead th {\n",
       "        text-align: right;\n",
       "    }\n",
       "</style>\n",
       "<table border=\"1\" class=\"dataframe\">\n",
       "  <thead>\n",
       "    <tr style=\"text-align: right;\">\n",
       "      <th></th>\n",
       "      <th>telecommuting</th>\n",
       "      <th>has_company_logo</th>\n",
       "      <th>has_questions</th>\n",
       "      <th>employment_type</th>\n",
       "      <th>required_experience</th>\n",
       "      <th>required_education</th>\n",
       "      <th>industry</th>\n",
       "      <th>function</th>\n",
       "      <th>fraudulent</th>\n",
       "    </tr>\n",
       "  </thead>\n",
       "  <tbody>\n",
       "    <tr>\n",
       "      <td>0</td>\n",
       "      <td>0</td>\n",
       "      <td>1</td>\n",
       "      <td>0</td>\n",
       "      <td>Other</td>\n",
       "      <td>Internship</td>\n",
       "      <td>NaN</td>\n",
       "      <td>NaN</td>\n",
       "      <td>Marketing</td>\n",
       "      <td>0</td>\n",
       "    </tr>\n",
       "    <tr>\n",
       "      <td>1</td>\n",
       "      <td>0</td>\n",
       "      <td>1</td>\n",
       "      <td>0</td>\n",
       "      <td>Full-time</td>\n",
       "      <td>Not Applicable</td>\n",
       "      <td>NaN</td>\n",
       "      <td>Marketing and Advertising</td>\n",
       "      <td>Customer Service</td>\n",
       "      <td>0</td>\n",
       "    </tr>\n",
       "    <tr>\n",
       "      <td>2</td>\n",
       "      <td>0</td>\n",
       "      <td>1</td>\n",
       "      <td>0</td>\n",
       "      <td>NaN</td>\n",
       "      <td>NaN</td>\n",
       "      <td>NaN</td>\n",
       "      <td>NaN</td>\n",
       "      <td>NaN</td>\n",
       "      <td>0</td>\n",
       "    </tr>\n",
       "    <tr>\n",
       "      <td>3</td>\n",
       "      <td>0</td>\n",
       "      <td>1</td>\n",
       "      <td>0</td>\n",
       "      <td>Full-time</td>\n",
       "      <td>Mid-Senior level</td>\n",
       "      <td>Bachelor's Degree</td>\n",
       "      <td>Computer Software</td>\n",
       "      <td>Sales</td>\n",
       "      <td>0</td>\n",
       "    </tr>\n",
       "    <tr>\n",
       "      <td>4</td>\n",
       "      <td>0</td>\n",
       "      <td>1</td>\n",
       "      <td>1</td>\n",
       "      <td>Full-time</td>\n",
       "      <td>Mid-Senior level</td>\n",
       "      <td>Bachelor's Degree</td>\n",
       "      <td>Hospital &amp; Health Care</td>\n",
       "      <td>Health Care Provider</td>\n",
       "      <td>0</td>\n",
       "    </tr>\n",
       "  </tbody>\n",
       "</table>\n",
       "</div>"
      ],
      "text/plain": [
       "   telecommuting  has_company_logo  has_questions employment_type  \\\n",
       "0              0                 1              0           Other   \n",
       "1              0                 1              0       Full-time   \n",
       "2              0                 1              0             NaN   \n",
       "3              0                 1              0       Full-time   \n",
       "4              0                 1              1       Full-time   \n",
       "\n",
       "  required_experience required_education                   industry  \\\n",
       "0          Internship                NaN                        NaN   \n",
       "1      Not Applicable                NaN  Marketing and Advertising   \n",
       "2                 NaN                NaN                        NaN   \n",
       "3    Mid-Senior level  Bachelor's Degree          Computer Software   \n",
       "4    Mid-Senior level  Bachelor's Degree     Hospital & Health Care   \n",
       "\n",
       "               function  fraudulent  \n",
       "0             Marketing           0  \n",
       "1      Customer Service           0  \n",
       "2                   NaN           0  \n",
       "3                 Sales           0  \n",
       "4  Health Care Provider           0  "
      ]
     },
     "execution_count": 8,
     "metadata": {},
     "output_type": "execute_result"
    }
   ],
   "source": [
    "Fake_Job.head()"
   ]
  },
  {
   "cell_type": "code",
   "execution_count": 9,
   "metadata": {},
   "outputs": [],
   "source": [
    "# Dropping useless columns\n",
    "Fake_Job.drop('industry',axis=1, inplace=True)"
   ]
  },
  {
   "cell_type": "code",
   "execution_count": 10,
   "metadata": {},
   "outputs": [
    {
     "data": {
      "text/plain": [
       "(17880, 8)"
      ]
     },
     "execution_count": 10,
     "metadata": {},
     "output_type": "execute_result"
    }
   ],
   "source": [
    "Fake_Job.shape"
   ]
  },
  {
   "cell_type": "code",
   "execution_count": 11,
   "metadata": {},
   "outputs": [
    {
     "data": {
      "text/html": [
       "<div>\n",
       "<style scoped>\n",
       "    .dataframe tbody tr th:only-of-type {\n",
       "        vertical-align: middle;\n",
       "    }\n",
       "\n",
       "    .dataframe tbody tr th {\n",
       "        vertical-align: top;\n",
       "    }\n",
       "\n",
       "    .dataframe thead th {\n",
       "        text-align: right;\n",
       "    }\n",
       "</style>\n",
       "<table border=\"1\" class=\"dataframe\">\n",
       "  <thead>\n",
       "    <tr style=\"text-align: right;\">\n",
       "      <th></th>\n",
       "      <th>telecommuting</th>\n",
       "      <th>has_company_logo</th>\n",
       "      <th>has_questions</th>\n",
       "      <th>employment_type</th>\n",
       "      <th>required_experience</th>\n",
       "      <th>required_education</th>\n",
       "      <th>function</th>\n",
       "      <th>fraudulent</th>\n",
       "    </tr>\n",
       "  </thead>\n",
       "  <tbody>\n",
       "    <tr>\n",
       "      <td>0</td>\n",
       "      <td>0</td>\n",
       "      <td>1</td>\n",
       "      <td>0</td>\n",
       "      <td>Other</td>\n",
       "      <td>Internship</td>\n",
       "      <td>NaN</td>\n",
       "      <td>Marketing</td>\n",
       "      <td>0</td>\n",
       "    </tr>\n",
       "    <tr>\n",
       "      <td>1</td>\n",
       "      <td>0</td>\n",
       "      <td>1</td>\n",
       "      <td>0</td>\n",
       "      <td>Full-time</td>\n",
       "      <td>Not Applicable</td>\n",
       "      <td>NaN</td>\n",
       "      <td>Customer Service</td>\n",
       "      <td>0</td>\n",
       "    </tr>\n",
       "    <tr>\n",
       "      <td>2</td>\n",
       "      <td>0</td>\n",
       "      <td>1</td>\n",
       "      <td>0</td>\n",
       "      <td>NaN</td>\n",
       "      <td>NaN</td>\n",
       "      <td>NaN</td>\n",
       "      <td>NaN</td>\n",
       "      <td>0</td>\n",
       "    </tr>\n",
       "    <tr>\n",
       "      <td>3</td>\n",
       "      <td>0</td>\n",
       "      <td>1</td>\n",
       "      <td>0</td>\n",
       "      <td>Full-time</td>\n",
       "      <td>Mid-Senior level</td>\n",
       "      <td>Bachelor's Degree</td>\n",
       "      <td>Sales</td>\n",
       "      <td>0</td>\n",
       "    </tr>\n",
       "    <tr>\n",
       "      <td>4</td>\n",
       "      <td>0</td>\n",
       "      <td>1</td>\n",
       "      <td>1</td>\n",
       "      <td>Full-time</td>\n",
       "      <td>Mid-Senior level</td>\n",
       "      <td>Bachelor's Degree</td>\n",
       "      <td>Health Care Provider</td>\n",
       "      <td>0</td>\n",
       "    </tr>\n",
       "  </tbody>\n",
       "</table>\n",
       "</div>"
      ],
      "text/plain": [
       "   telecommuting  has_company_logo  has_questions employment_type  \\\n",
       "0              0                 1              0           Other   \n",
       "1              0                 1              0       Full-time   \n",
       "2              0                 1              0             NaN   \n",
       "3              0                 1              0       Full-time   \n",
       "4              0                 1              1       Full-time   \n",
       "\n",
       "  required_experience required_education              function  fraudulent  \n",
       "0          Internship                NaN             Marketing           0  \n",
       "1      Not Applicable                NaN      Customer Service           0  \n",
       "2                 NaN                NaN                   NaN           0  \n",
       "3    Mid-Senior level  Bachelor's Degree                 Sales           0  \n",
       "4    Mid-Senior level  Bachelor's Degree  Health Care Provider           0  "
      ]
     },
     "execution_count": 11,
     "metadata": {},
     "output_type": "execute_result"
    }
   ],
   "source": [
    "Fake_Job.head()"
   ]
  },
  {
   "cell_type": "code",
   "execution_count": 12,
   "metadata": {},
   "outputs": [
    {
     "data": {
      "text/plain": [
       "telecommuting             0\n",
       "has_company_logo          0\n",
       "has_questions             0\n",
       "employment_type        3471\n",
       "required_experience    7050\n",
       "required_education     8105\n",
       "function               6455\n",
       "fraudulent                0\n",
       "dtype: int64"
      ]
     },
     "execution_count": 12,
     "metadata": {},
     "output_type": "execute_result"
    }
   ],
   "source": [
    "Fake_Job.isnull().sum()"
   ]
  },
  {
   "cell_type": "code",
   "execution_count": 13,
   "metadata": {},
   "outputs": [
    {
     "data": {
      "text/plain": [
       "telecommuting           2\n",
       "has_company_logo        2\n",
       "has_questions           2\n",
       "employment_type         5\n",
       "required_experience     7\n",
       "required_education     13\n",
       "function               37\n",
       "fraudulent              2\n",
       "dtype: int64"
      ]
     },
     "execution_count": 13,
     "metadata": {},
     "output_type": "execute_result"
    }
   ],
   "source": [
    "Fake_Job.nunique()"
   ]
  },
  {
   "cell_type": "code",
   "execution_count": 14,
   "metadata": {},
   "outputs": [
    {
     "data": {
      "text/plain": [
       "array(['Other', 'Full-time', nan, 'Part-time', 'Contract', 'Temporary'],\n",
       "      dtype=object)"
      ]
     },
     "execution_count": 14,
     "metadata": {},
     "output_type": "execute_result"
    }
   ],
   "source": [
    "Fake_Job['employment_type'].unique()"
   ]
  },
  {
   "cell_type": "code",
   "execution_count": 15,
   "metadata": {},
   "outputs": [],
   "source": [
    "# Treating the missing values\n",
    "modeValue = Fake_Job['employment_type'].mode()[0]\n",
    "Fake_Job['employment_type'].fillna(modeValue,inplace=True)\n",
    "Fake_Job['required_experience'].fillna(Fake_Job['required_experience'].mode()[0], inplace=True)\n",
    "Fake_Job['required_education'].interpolate(method='ffill', inplace=True)\n",
    "Fake_Job['function'].interpolate(method='bfill', inplace=True)"
   ]
  },
  {
   "cell_type": "code",
   "execution_count": 16,
   "metadata": {},
   "outputs": [
    {
     "data": {
      "text/plain": [
       "telecommuting          0\n",
       "has_company_logo       0\n",
       "has_questions          0\n",
       "employment_type        0\n",
       "required_experience    0\n",
       "required_education     3\n",
       "function               0\n",
       "fraudulent             0\n",
       "dtype: int64"
      ]
     },
     "execution_count": 16,
     "metadata": {},
     "output_type": "execute_result"
    }
   ],
   "source": [
    "Fake_Job.isnull().sum()"
   ]
  },
  {
   "cell_type": "code",
   "execution_count": 17,
   "metadata": {},
   "outputs": [
    {
     "data": {
      "text/plain": [
       "telecommuting           2\n",
       "has_company_logo        2\n",
       "has_questions           2\n",
       "employment_type         5\n",
       "required_experience     7\n",
       "required_education     13\n",
       "function               37\n",
       "fraudulent              2\n",
       "dtype: int64"
      ]
     },
     "execution_count": 17,
     "metadata": {},
     "output_type": "execute_result"
    }
   ],
   "source": [
    "Fake_Job.nunique()"
   ]
  },
  {
   "cell_type": "code",
   "execution_count": 18,
   "metadata": {},
   "outputs": [
    {
     "data": {
      "text/plain": [
       "array(['Other', 'Full-time', 'Part-time', 'Contract', 'Temporary'],\n",
       "      dtype=object)"
      ]
     },
     "execution_count": 18,
     "metadata": {},
     "output_type": "execute_result"
    }
   ],
   "source": [
    "Fake_Job['employment_type'].unique()"
   ]
  },
  {
   "cell_type": "code",
   "execution_count": 19,
   "metadata": {},
   "outputs": [],
   "source": [
    "employment_type_Mapping = {'Other':4, 'Full-time':3, 'Part-time':2, 'Contract':1, 'Temporary':0}\n",
    "Fake_Job['employment_type'] = Fake_Job['employment_type'].map(employment_type_Mapping)"
   ]
  },
  {
   "cell_type": "code",
   "execution_count": 20,
   "metadata": {},
   "outputs": [
    {
     "data": {
      "text/html": [
       "<div>\n",
       "<style scoped>\n",
       "    .dataframe tbody tr th:only-of-type {\n",
       "        vertical-align: middle;\n",
       "    }\n",
       "\n",
       "    .dataframe tbody tr th {\n",
       "        vertical-align: top;\n",
       "    }\n",
       "\n",
       "    .dataframe thead th {\n",
       "        text-align: right;\n",
       "    }\n",
       "</style>\n",
       "<table border=\"1\" class=\"dataframe\">\n",
       "  <thead>\n",
       "    <tr style=\"text-align: right;\">\n",
       "      <th></th>\n",
       "      <th>telecommuting</th>\n",
       "      <th>has_company_logo</th>\n",
       "      <th>has_questions</th>\n",
       "      <th>employment_type</th>\n",
       "      <th>required_experience</th>\n",
       "      <th>required_education</th>\n",
       "      <th>function</th>\n",
       "      <th>fraudulent</th>\n",
       "    </tr>\n",
       "  </thead>\n",
       "  <tbody>\n",
       "    <tr>\n",
       "      <td>0</td>\n",
       "      <td>0</td>\n",
       "      <td>1</td>\n",
       "      <td>0</td>\n",
       "      <td>4</td>\n",
       "      <td>Internship</td>\n",
       "      <td>NaN</td>\n",
       "      <td>Marketing</td>\n",
       "      <td>0</td>\n",
       "    </tr>\n",
       "    <tr>\n",
       "      <td>1</td>\n",
       "      <td>0</td>\n",
       "      <td>1</td>\n",
       "      <td>0</td>\n",
       "      <td>3</td>\n",
       "      <td>Not Applicable</td>\n",
       "      <td>NaN</td>\n",
       "      <td>Customer Service</td>\n",
       "      <td>0</td>\n",
       "    </tr>\n",
       "    <tr>\n",
       "      <td>2</td>\n",
       "      <td>0</td>\n",
       "      <td>1</td>\n",
       "      <td>0</td>\n",
       "      <td>3</td>\n",
       "      <td>Mid-Senior level</td>\n",
       "      <td>NaN</td>\n",
       "      <td>Sales</td>\n",
       "      <td>0</td>\n",
       "    </tr>\n",
       "    <tr>\n",
       "      <td>3</td>\n",
       "      <td>0</td>\n",
       "      <td>1</td>\n",
       "      <td>0</td>\n",
       "      <td>3</td>\n",
       "      <td>Mid-Senior level</td>\n",
       "      <td>Bachelor's Degree</td>\n",
       "      <td>Sales</td>\n",
       "      <td>0</td>\n",
       "    </tr>\n",
       "    <tr>\n",
       "      <td>4</td>\n",
       "      <td>0</td>\n",
       "      <td>1</td>\n",
       "      <td>1</td>\n",
       "      <td>3</td>\n",
       "      <td>Mid-Senior level</td>\n",
       "      <td>Bachelor's Degree</td>\n",
       "      <td>Health Care Provider</td>\n",
       "      <td>0</td>\n",
       "    </tr>\n",
       "  </tbody>\n",
       "</table>\n",
       "</div>"
      ],
      "text/plain": [
       "   telecommuting  has_company_logo  has_questions  employment_type  \\\n",
       "0              0                 1              0                4   \n",
       "1              0                 1              0                3   \n",
       "2              0                 1              0                3   \n",
       "3              0                 1              0                3   \n",
       "4              0                 1              1                3   \n",
       "\n",
       "  required_experience required_education              function  fraudulent  \n",
       "0          Internship                NaN             Marketing           0  \n",
       "1      Not Applicable                NaN      Customer Service           0  \n",
       "2    Mid-Senior level                NaN                 Sales           0  \n",
       "3    Mid-Senior level  Bachelor's Degree                 Sales           0  \n",
       "4    Mid-Senior level  Bachelor's Degree  Health Care Provider           0  "
      ]
     },
     "execution_count": 20,
     "metadata": {},
     "output_type": "execute_result"
    }
   ],
   "source": [
    "Fake_Job.head()"
   ]
  },
  {
   "cell_type": "code",
   "execution_count": 21,
   "metadata": {},
   "outputs": [
    {
     "data": {
      "text/plain": [
       "array(['Internship', 'Not Applicable', 'Mid-Senior level', 'Associate',\n",
       "       'Entry level', 'Executive', 'Director'], dtype=object)"
      ]
     },
     "execution_count": 21,
     "metadata": {},
     "output_type": "execute_result"
    }
   ],
   "source": [
    "Fake_Job['required_experience'].unique()"
   ]
  },
  {
   "cell_type": "code",
   "execution_count": 22,
   "metadata": {},
   "outputs": [],
   "source": [
    "required_experience_Mapping = {'Internship':1, 'Not Applicable':0, 'Mid-Senior level':4, 'Associate':5,\n",
    "       'Entry level':2, 'Executive':3, 'Director':6}\n",
    "Fake_Job['required_experience'] = Fake_Job['required_experience'].map(required_experience_Mapping)"
   ]
  },
  {
   "cell_type": "code",
   "execution_count": 23,
   "metadata": {},
   "outputs": [],
   "source": [
    "%matplotlib inline"
   ]
  },
  {
   "cell_type": "code",
   "execution_count": 24,
   "metadata": {},
   "outputs": [],
   "source": [
    "def DistributionOfCat(inpdata, SelectedCols):\n",
    "    import matplotlib.pyplot as plt\n",
    "    fig, subplot = plt.subplots(nrows=len(SelectedCols), ncols=1, figsize=(5,30))\n",
    "    for colName, plotNumber in zip(SelectedCols, range(len(SelectedCols))):\n",
    "        inpdata.groupby(colName).size().plot.bar(ax = subplot[plotNumber])"
   ]
  },
  {
   "cell_type": "code",
   "execution_count": 25,
   "metadata": {},
   "outputs": [
    {
     "data": {
      "text/plain": [
       "Index(['telecommuting', 'has_company_logo', 'has_questions', 'employment_type',\n",
       "       'required_experience', 'required_education', 'function', 'fraudulent'],\n",
       "      dtype='object')"
      ]
     },
     "execution_count": 25,
     "metadata": {},
     "output_type": "execute_result"
    }
   ],
   "source": [
    "Fake_Job.columns"
   ]
  },
  {
   "cell_type": "markdown",
   "metadata": {},
   "source": [
    "## Checking the distributions of all variables"
   ]
  },
  {
   "cell_type": "code",
   "execution_count": 26,
   "metadata": {
    "scrolled": true
   },
   "outputs": [
    {
     "data": {
      "image/png": "[encoded data removed]",
      "text/plain": [
       "<Figure size 360x2160 with 8 Axes>"
      ]
     },
     "metadata": {
      "needs_background": "light"
     },
     "output_type": "display_data"
    }
   ],
   "source": [
    "DistributionOfCat(Fake_Job, SelectedCols=['telecommuting', 'has_company_logo', 'has_questions', 'employment_type',\n",
    "       'required_experience', 'required_education', 'function', 'fraudulent'])"
   ]
  },
  {
   "cell_type": "markdown",
   "metadata": {},
   "source": [
    "## Bucketing"
   ]
  },
  {
   "cell_type": "code",
   "execution_count": 28,
   "metadata": {},
   "outputs": [
    {
     "data": {
      "text/plain": [
       "<matplotlib.axes._subplots.AxesSubplot at 0x23ed7278e88>"
      ]
     },
     "execution_count": 28,
     "metadata": {},
     "output_type": "execute_result"
    },
    {
     "data": {
      "image/png": "[encoded data removed]",
      "text/plain": [
       "<Figure size 432x288 with 1 Axes>"
      ]
     },
     "metadata": {
      "needs_background": "light"
     },
     "output_type": "display_data"
    }
   ],
   "source": [
    "Fake_Job.groupby('function').size().plot.bar()"
   ]
  },
  {
   "cell_type": "code",
   "execution_count": 31,
   "metadata": {},
   "outputs": [
    {
     "data": {
      "text/plain": [
       "array(['Marketing', 'Customer Service', 'Sales', 'Health Care Provider',\n",
       "       'Management', 'Information Technology', 'Other', 'Engineering',\n",
       "       'Administrative', 'Design', 'Production', 'Education',\n",
       "       'Supply Chain', 'Business Development', 'Product Management',\n",
       "       'Financial Analyst', 'Consulting', 'Human Resources',\n",
       "       'Project Management', 'Manufacturing', 'Public Relations',\n",
       "       'Strategy/Planning', 'Advertising', 'Finance', 'General Business',\n",
       "       'Research', 'Accounting/Auditing', 'Art/Creative',\n",
       "       'Quality Assurance', 'Data Analyst', 'Business Analyst',\n",
       "       'Writing/Editing', 'Distribution', 'Science', 'Training',\n",
       "       'Purchasing', 'Legal'], dtype=object)"
      ]
     },
     "execution_count": 31,
     "metadata": {},
     "output_type": "execute_result"
    }
   ],
   "source": [
    "Fake_Job['function'].unique()"
   ]
  },
  {
   "cell_type": "code",
   "execution_count": 32,
   "metadata": {},
   "outputs": [],
   "source": [
    "MapFunction = {'Marketing':0, 'Customer Service':1, 'Sales':2, 'Health Care Provider':3,\n",
    "       'Management':4, 'Information Technology':5, 'Other':6, 'Engineering':7,\n",
    "       'Administrative':8, 'Design':9, 'Production':10, 'Education':11,\n",
    "       'Supply Chain':12, 'Business Development':13, 'Product Management':14,\n",
    "       'Financial Analyst':15, 'Consulting':16, 'Human Resources':17,\n",
    "       'Project Management':18, 'Manufacturing':19, 'Public Relations':20,\n",
    "       'Strategy/Planning':21, 'Advertising':22, 'Finance':23, 'General Business':24,\n",
    "       'Research':25, 'Accounting/Auditing':26, 'Art/Creative':27,\n",
    "       'Quality Assurance':28, 'Data Analyst':29, 'Business Analyst':30,\n",
    "       'Writing/Editing':31, 'Distribution':32, 'Science':33, 'Training':34,\n",
    "       'Purchasing':35, 'Legal':36}\n",
    "Fake_Job['function'] = Fake_Job['function'].map(MapFunction)"
   ]
  },
  {
   "cell_type": "code",
   "execution_count": 33,
   "metadata": {},
   "outputs": [
    {
     "data": {
      "text/plain": [
       "array([ 0,  1,  2,  3,  4,  5,  6,  7,  8,  9, 10, 11, 12, 13, 14, 15, 16,\n",
       "       17, 18, 19, 20, 21, 22, 23, 24, 25, 26, 27, 28, 29, 30, 31, 32, 33,\n",
       "       34, 35, 36], dtype=int64)"
      ]
     },
     "execution_count": 33,
     "metadata": {},
     "output_type": "execute_result"
    }
   ],
   "source": [
    "Fake_Job['function'].unique()"
   ]
  },
  {
   "cell_type": "code",
   "execution_count": 34,
   "metadata": {},
   "outputs": [
    {
     "data": {
      "text/plain": [
       "array([ 0. ,  2.5,  5. ,  7.5, 10. ])"
      ]
     },
     "execution_count": 34,
     "metadata": {},
     "output_type": "execute_result"
    }
   ],
   "source": [
    "custom_bucket = np.linspace(0,10,5)\n",
    "custom_bucket"
   ]
  },
  {
   "cell_type": "code",
   "execution_count": 35,
   "metadata": {},
   "outputs": [],
   "source": [
    "Fake_Job['binned_function'] = pd.cut(Fake_Job['function'], custom_bucket, labels=[1,2,3,4])"
   ]
  },
  {
   "cell_type": "code",
   "execution_count": 36,
   "metadata": {},
   "outputs": [
    {
     "data": {
      "text/plain": [
       "0    0\n",
       "1    1\n",
       "2    2\n",
       "3    2\n",
       "4    3\n",
       "5    4\n",
       "6    4\n",
       "7    1\n",
       "8    1\n",
       "9    1\n",
       "Name: function, dtype: int64"
      ]
     },
     "execution_count": 36,
     "metadata": {},
     "output_type": "execute_result"
    }
   ],
   "source": [
    "Fake_Job['function'].head(10)"
   ]
  },
  {
   "cell_type": "code",
   "execution_count": 37,
   "metadata": {},
   "outputs": [
    {
     "data": {
      "text/plain": [
       "<matplotlib.axes._subplots.AxesSubplot at 0x23edd39a448>"
      ]
     },
     "execution_count": 37,
     "metadata": {},
     "output_type": "execute_result"
    },
    {
     "data": {
      "image/png": "[encoded data removed]",
      "text/plain": [
       "<Figure size 432x288 with 1 Axes>"
      ]
     },
     "metadata": {
      "needs_background": "light"
     },
     "output_type": "display_data"
    }
   ],
   "source": [
    "Fake_Job.groupby('binned_function').size().plot.bar()"
   ]
  },
  {
   "cell_type": "code",
   "execution_count": null,
   "metadata": {},
   "outputs": [],
   "source": []
  },
  {
   "cell_type": "code",
   "execution_count": 27,
   "metadata": {},
   "outputs": [
    {
     "data": {
      "text/html": [
       "<div>\n",
       "<style scoped>\n",
       "    .dataframe tbody tr th:only-of-type {\n",
       "        vertical-align: middle;\n",
       "    }\n",
       "\n",
       "    .dataframe tbody tr th {\n",
       "        vertical-align: top;\n",
       "    }\n",
       "\n",
       "    .dataframe thead th {\n",
       "        text-align: right;\n",
       "    }\n",
       "</style>\n",
       "<table border=\"1\" class=\"dataframe\">\n",
       "  <thead>\n",
       "    <tr style=\"text-align: right;\">\n",
       "      <th>fraudulent</th>\n",
       "      <th>0</th>\n",
       "      <th>1</th>\n",
       "    </tr>\n",
       "    <tr>\n",
       "      <th>function</th>\n",
       "      <th></th>\n",
       "      <th></th>\n",
       "    </tr>\n",
       "  </thead>\n",
       "  <tbody>\n",
       "    <tr>\n",
       "      <td>Accounting/Auditing</td>\n",
       "      <td>293</td>\n",
       "      <td>58</td>\n",
       "    </tr>\n",
       "    <tr>\n",
       "      <td>Administrative</td>\n",
       "      <td>854</td>\n",
       "      <td>193</td>\n",
       "    </tr>\n",
       "    <tr>\n",
       "      <td>Advertising</td>\n",
       "      <td>123</td>\n",
       "      <td>11</td>\n",
       "    </tr>\n",
       "    <tr>\n",
       "      <td>Art/Creative</td>\n",
       "      <td>191</td>\n",
       "      <td>3</td>\n",
       "    </tr>\n",
       "    <tr>\n",
       "      <td>Business Analyst</td>\n",
       "      <td>128</td>\n",
       "      <td>1</td>\n",
       "    </tr>\n",
       "    <tr>\n",
       "      <td>Business Development</td>\n",
       "      <td>353</td>\n",
       "      <td>18</td>\n",
       "    </tr>\n",
       "    <tr>\n",
       "      <td>Consulting</td>\n",
       "      <td>201</td>\n",
       "      <td>7</td>\n",
       "    </tr>\n",
       "    <tr>\n",
       "      <td>Customer Service</td>\n",
       "      <td>1799</td>\n",
       "      <td>94</td>\n",
       "    </tr>\n",
       "    <tr>\n",
       "      <td>Data Analyst</td>\n",
       "      <td>122</td>\n",
       "      <td>4</td>\n",
       "    </tr>\n",
       "    <tr>\n",
       "      <td>Design</td>\n",
       "      <td>509</td>\n",
       "      <td>7</td>\n",
       "    </tr>\n",
       "    <tr>\n",
       "      <td>Distribution</td>\n",
       "      <td>30</td>\n",
       "      <td>3</td>\n",
       "    </tr>\n",
       "    <tr>\n",
       "      <td>Education</td>\n",
       "      <td>472</td>\n",
       "      <td>7</td>\n",
       "    </tr>\n",
       "    <tr>\n",
       "      <td>Engineering</td>\n",
       "      <td>1974</td>\n",
       "      <td>137</td>\n",
       "    </tr>\n",
       "    <tr>\n",
       "      <td>Finance</td>\n",
       "      <td>251</td>\n",
       "      <td>26</td>\n",
       "    </tr>\n",
       "    <tr>\n",
       "      <td>Financial Analyst</td>\n",
       "      <td>42</td>\n",
       "      <td>8</td>\n",
       "    </tr>\n",
       "    <tr>\n",
       "      <td>General Business</td>\n",
       "      <td>113</td>\n",
       "      <td>5</td>\n",
       "    </tr>\n",
       "    <tr>\n",
       "      <td>Health Care Provider</td>\n",
       "      <td>546</td>\n",
       "      <td>8</td>\n",
       "    </tr>\n",
       "    <tr>\n",
       "      <td>Human Resources</td>\n",
       "      <td>310</td>\n",
       "      <td>13</td>\n",
       "    </tr>\n",
       "    <tr>\n",
       "      <td>Information Technology</td>\n",
       "      <td>2627</td>\n",
       "      <td>63</td>\n",
       "    </tr>\n",
       "    <tr>\n",
       "      <td>Legal</td>\n",
       "      <td>75</td>\n",
       "      <td>0</td>\n",
       "    </tr>\n",
       "    <tr>\n",
       "      <td>Management</td>\n",
       "      <td>501</td>\n",
       "      <td>7</td>\n",
       "    </tr>\n",
       "    <tr>\n",
       "      <td>Manufacturing</td>\n",
       "      <td>121</td>\n",
       "      <td>4</td>\n",
       "    </tr>\n",
       "    <tr>\n",
       "      <td>Marketing</td>\n",
       "      <td>1259</td>\n",
       "      <td>28</td>\n",
       "    </tr>\n",
       "    <tr>\n",
       "      <td>Other</td>\n",
       "      <td>428</td>\n",
       "      <td>48</td>\n",
       "    </tr>\n",
       "    <tr>\n",
       "      <td>Product Management</td>\n",
       "      <td>179</td>\n",
       "      <td>1</td>\n",
       "    </tr>\n",
       "    <tr>\n",
       "      <td>Production</td>\n",
       "      <td>181</td>\n",
       "      <td>0</td>\n",
       "    </tr>\n",
       "    <tr>\n",
       "      <td>Project Management</td>\n",
       "      <td>267</td>\n",
       "      <td>15</td>\n",
       "    </tr>\n",
       "    <tr>\n",
       "      <td>Public Relations</td>\n",
       "      <td>121</td>\n",
       "      <td>2</td>\n",
       "    </tr>\n",
       "    <tr>\n",
       "      <td>Purchasing</td>\n",
       "      <td>20</td>\n",
       "      <td>0</td>\n",
       "    </tr>\n",
       "    <tr>\n",
       "      <td>Quality Assurance</td>\n",
       "      <td>167</td>\n",
       "      <td>4</td>\n",
       "    </tr>\n",
       "    <tr>\n",
       "      <td>Research</td>\n",
       "      <td>76</td>\n",
       "      <td>0</td>\n",
       "    </tr>\n",
       "    <tr>\n",
       "      <td>Sales</td>\n",
       "      <td>2229</td>\n",
       "      <td>84</td>\n",
       "    </tr>\n",
       "    <tr>\n",
       "      <td>Science</td>\n",
       "      <td>19</td>\n",
       "      <td>0</td>\n",
       "    </tr>\n",
       "    <tr>\n",
       "      <td>Strategy/Planning</td>\n",
       "      <td>81</td>\n",
       "      <td>2</td>\n",
       "    </tr>\n",
       "    <tr>\n",
       "      <td>Supply Chain</td>\n",
       "      <td>54</td>\n",
       "      <td>2</td>\n",
       "    </tr>\n",
       "    <tr>\n",
       "      <td>Training</td>\n",
       "      <td>70</td>\n",
       "      <td>0</td>\n",
       "    </tr>\n",
       "    <tr>\n",
       "      <td>Writing/Editing</td>\n",
       "      <td>228</td>\n",
       "      <td>3</td>\n",
       "    </tr>\n",
       "  </tbody>\n",
       "</table>\n",
       "</div>"
      ],
      "text/plain": [
       "fraudulent                 0    1\n",
       "function                         \n",
       "Accounting/Auditing      293   58\n",
       "Administrative           854  193\n",
       "Advertising              123   11\n",
       "Art/Creative             191    3\n",
       "Business Analyst         128    1\n",
       "Business Development     353   18\n",
       "Consulting               201    7\n",
       "Customer Service        1799   94\n",
       "Data Analyst             122    4\n",
       "Design                   509    7\n",
       "Distribution              30    3\n",
       "Education                472    7\n",
       "Engineering             1974  137\n",
       "Finance                  251   26\n",
       "Financial Analyst         42    8\n",
       "General Business         113    5\n",
       "Health Care Provider     546    8\n",
       "Human Resources          310   13\n",
       "Information Technology  2627   63\n",
       "Legal                     75    0\n",
       "Management               501    7\n",
       "Manufacturing            121    4\n",
       "Marketing               1259   28\n",
       "Other                    428   48\n",
       "Product Management       179    1\n",
       "Production               181    0\n",
       "Project Management       267   15\n",
       "Public Relations         121    2\n",
       "Purchasing                20    0\n",
       "Quality Assurance        167    4\n",
       "Research                  76    0\n",
       "Sales                   2229   84\n",
       "Science                   19    0\n",
       "Strategy/Planning         81    2\n",
       "Supply Chain              54    2\n",
       "Training                  70    0\n",
       "Writing/Editing          228    3"
      ]
     },
     "execution_count": 27,
     "metadata": {},
     "output_type": "execute_result"
    }
   ],
   "source": [
    "CrossTabResult = pd.crosstab(columns=Fake_Job['fraudulent'], index=Fake_Job['function'])\n",
    "CrossTabResult"
   ]
  },
  {
   "cell_type": "code",
   "execution_count": 28,
   "metadata": {},
   "outputs": [],
   "source": [
    "def RelationCatvsCat(inpData, SelectedCols, Target):\n",
    "    import matplotlib.pyplot as plt\n",
    "    import pandas as pd\n",
    "    fig, subplot = plt.subplots(nrows=len(SelectedCols), ncols=1, figsize=(5,30))\n",
    "    for colName, plotNumber in zip(SelectedCols, range(len(SelectedCols))):\n",
    "        CrossTabResult = pd.crosstab(columns=inpData[Target], index=inpData[colName])\n",
    "        CrossTabResult.plot.bar(ax = subplot[plotNumber])"
   ]
  },
  {
   "cell_type": "code",
   "execution_count": 29,
   "metadata": {},
   "outputs": [
    {
     "data": {
      "image/png": "[encoded data removed]",
      "text/plain": [
       "<Figure size 360x2160 with 7 Axes>"
      ]
     },
     "metadata": {
      "needs_background": "light"
     },
     "output_type": "display_data"
    }
   ],
   "source": [
    "RelationCatvsCat(Fake_Job, SelectedCols=['telecommuting', 'has_company_logo', 'has_questions', 'employment_type',\n",
    "       'required_experience', 'required_education', 'function'], Target='fraudulent')"
   ]
  },
  {
   "cell_type": "code",
   "execution_count": 30,
   "metadata": {},
   "outputs": [],
   "source": [
    "from scipy.stats import chi2_contingency\n",
    "anova = chi2_contingency(CrossTabResult)"
   ]
  },
  {
   "cell_type": "code",
   "execution_count": 31,
   "metadata": {},
   "outputs": [
    {
     "data": {
      "text/plain": [
       "1.1832994727542267e-137"
      ]
     },
     "execution_count": 31,
     "metadata": {},
     "output_type": "execute_result"
    }
   ],
   "source": [
    "anova[1]"
   ]
  },
  {
   "cell_type": "code",
   "execution_count": 32,
   "metadata": {},
   "outputs": [],
   "source": [
    "def anovaTest(inpData, SelectedCols, Target):\n",
    "    from scipy.stats import chi2_contingency\n",
    "    for colName in SelectedCols:\n",
    "        CrossTabResult = pd.crosstab(columns=inpData[Target], index=inpData[colName])\n",
    "        Anova = chi2_contingency(CrossTabResult)\n",
    "        print(Anova[1])\n",
    "        if(Anova[1]>0.05):\n",
    "            print('Not Correlated')\n",
    "        else:\n",
    "            print('Correlated')"
   ]
  },
  {
   "cell_type": "code",
   "execution_count": 33,
   "metadata": {},
   "outputs": [
    {
     "name": "stdout",
     "output_type": "stream",
     "text": [
      "5.88986891319539e-06\n",
      "Correlated\n",
      "3.5943691337772625e-268\n",
      "Correlated\n",
      "2.515984961488263e-34\n",
      "Correlated\n",
      "1.4137171764056655e-11\n",
      "Correlated\n",
      "1.9254943573222032e-13\n",
      "Correlated\n",
      "4.093808292653645e-106\n",
      "Correlated\n",
      "1.1832994727542267e-137\n",
      "Correlated\n"
     ]
    }
   ],
   "source": [
    "anovaTest(Fake_Job, SelectedCols=['telecommuting', 'has_company_logo', 'has_questions', 'employment_type',\n",
    "       'required_experience', 'required_education', 'function'], Target='fraudulent')"
   ]
  },
  {
   "cell_type": "code",
   "execution_count": 34,
   "metadata": {},
   "outputs": [
    {
     "data": {
      "text/html": [
       "<div>\n",
       "<style scoped>\n",
       "    .dataframe tbody tr th:only-of-type {\n",
       "        vertical-align: middle;\n",
       "    }\n",
       "\n",
       "    .dataframe tbody tr th {\n",
       "        vertical-align: top;\n",
       "    }\n",
       "\n",
       "    .dataframe thead th {\n",
       "        text-align: right;\n",
       "    }\n",
       "</style>\n",
       "<table border=\"1\" class=\"dataframe\">\n",
       "  <thead>\n",
       "    <tr style=\"text-align: right;\">\n",
       "      <th></th>\n",
       "      <th>telecommuting</th>\n",
       "      <th>has_company_logo</th>\n",
       "      <th>has_questions</th>\n",
       "      <th>employment_type</th>\n",
       "      <th>required_experience</th>\n",
       "      <th>required_education</th>\n",
       "      <th>function</th>\n",
       "      <th>fraudulent</th>\n",
       "    </tr>\n",
       "  </thead>\n",
       "  <tbody>\n",
       "    <tr>\n",
       "      <td>0</td>\n",
       "      <td>0</td>\n",
       "      <td>1</td>\n",
       "      <td>0</td>\n",
       "      <td>4</td>\n",
       "      <td>1</td>\n",
       "      <td>NaN</td>\n",
       "      <td>Marketing</td>\n",
       "      <td>0</td>\n",
       "    </tr>\n",
       "    <tr>\n",
       "      <td>1</td>\n",
       "      <td>0</td>\n",
       "      <td>1</td>\n",
       "      <td>0</td>\n",
       "      <td>3</td>\n",
       "      <td>0</td>\n",
       "      <td>NaN</td>\n",
       "      <td>Customer Service</td>\n",
       "      <td>0</td>\n",
       "    </tr>\n",
       "    <tr>\n",
       "      <td>2</td>\n",
       "      <td>0</td>\n",
       "      <td>1</td>\n",
       "      <td>0</td>\n",
       "      <td>3</td>\n",
       "      <td>4</td>\n",
       "      <td>NaN</td>\n",
       "      <td>Sales</td>\n",
       "      <td>0</td>\n",
       "    </tr>\n",
       "    <tr>\n",
       "      <td>3</td>\n",
       "      <td>0</td>\n",
       "      <td>1</td>\n",
       "      <td>0</td>\n",
       "      <td>3</td>\n",
       "      <td>4</td>\n",
       "      <td>Bachelor's Degree</td>\n",
       "      <td>Sales</td>\n",
       "      <td>0</td>\n",
       "    </tr>\n",
       "    <tr>\n",
       "      <td>4</td>\n",
       "      <td>0</td>\n",
       "      <td>1</td>\n",
       "      <td>1</td>\n",
       "      <td>3</td>\n",
       "      <td>4</td>\n",
       "      <td>Bachelor's Degree</td>\n",
       "      <td>Health Care Provider</td>\n",
       "      <td>0</td>\n",
       "    </tr>\n",
       "  </tbody>\n",
       "</table>\n",
       "</div>"
      ],
      "text/plain": [
       "   telecommuting  has_company_logo  has_questions  employment_type  \\\n",
       "0              0                 1              0                4   \n",
       "1              0                 1              0                3   \n",
       "2              0                 1              0                3   \n",
       "3              0                 1              0                3   \n",
       "4              0                 1              1                3   \n",
       "\n",
       "   required_experience required_education              function  fraudulent  \n",
       "0                    1                NaN             Marketing           0  \n",
       "1                    0                NaN      Customer Service           0  \n",
       "2                    4                NaN                 Sales           0  \n",
       "3                    4  Bachelor's Degree                 Sales           0  \n",
       "4                    4  Bachelor's Degree  Health Care Provider           0  "
      ]
     },
     "execution_count": 34,
     "metadata": {},
     "output_type": "execute_result"
    }
   ],
   "source": [
    "Fake_Job.head()"
   ]
  },
  {
   "cell_type": "code",
   "execution_count": 35,
   "metadata": {},
   "outputs": [
    {
     "data": {
      "text/plain": [
       "array([nan, \"Bachelor's Degree\", \"Master's Degree\",\n",
       "       'High School or equivalent', 'Unspecified',\n",
       "       'Some College Coursework Completed', 'Vocational', 'Certification',\n",
       "       'Associate Degree', 'Professional', 'Doctorate',\n",
       "       'Some High School Coursework', 'Vocational - Degree',\n",
       "       'Vocational - HS Diploma'], dtype=object)"
      ]
     },
     "execution_count": 35,
     "metadata": {},
     "output_type": "execute_result"
    }
   ],
   "source": [
    "Fake_Job['required_education'].unique()"
   ]
  },
  {
   "cell_type": "code",
   "execution_count": 36,
   "metadata": {},
   "outputs": [],
   "source": [
    "Fake_JobDataNumeric = pd.get_dummies(Fake_Job)"
   ]
  },
  {
   "cell_type": "code",
   "execution_count": 37,
   "metadata": {},
   "outputs": [
    {
     "data": {
      "text/html": [
       "<div>\n",
       "<style scoped>\n",
       "    .dataframe tbody tr th:only-of-type {\n",
       "        vertical-align: middle;\n",
       "    }\n",
       "\n",
       "    .dataframe tbody tr th {\n",
       "        vertical-align: top;\n",
       "    }\n",
       "\n",
       "    .dataframe thead th {\n",
       "        text-align: right;\n",
       "    }\n",
       "</style>\n",
       "<table border=\"1\" class=\"dataframe\">\n",
       "  <thead>\n",
       "    <tr style=\"text-align: right;\">\n",
       "      <th></th>\n",
       "      <th>telecommuting</th>\n",
       "      <th>has_company_logo</th>\n",
       "      <th>has_questions</th>\n",
       "      <th>employment_type</th>\n",
       "      <th>required_experience</th>\n",
       "      <th>fraudulent</th>\n",
       "      <th>required_education_Associate Degree</th>\n",
       "      <th>required_education_Bachelor's Degree</th>\n",
       "      <th>required_education_Certification</th>\n",
       "      <th>required_education_Doctorate</th>\n",
       "      <th>...</th>\n",
       "      <th>function_Public Relations</th>\n",
       "      <th>function_Purchasing</th>\n",
       "      <th>function_Quality Assurance</th>\n",
       "      <th>function_Research</th>\n",
       "      <th>function_Sales</th>\n",
       "      <th>function_Science</th>\n",
       "      <th>function_Strategy/Planning</th>\n",
       "      <th>function_Supply Chain</th>\n",
       "      <th>function_Training</th>\n",
       "      <th>function_Writing/Editing</th>\n",
       "    </tr>\n",
       "  </thead>\n",
       "  <tbody>\n",
       "    <tr>\n",
       "      <td>0</td>\n",
       "      <td>0</td>\n",
       "      <td>1</td>\n",
       "      <td>0</td>\n",
       "      <td>4</td>\n",
       "      <td>1</td>\n",
       "      <td>0</td>\n",
       "      <td>0</td>\n",
       "      <td>0</td>\n",
       "      <td>0</td>\n",
       "      <td>0</td>\n",
       "      <td>...</td>\n",
       "      <td>0</td>\n",
       "      <td>0</td>\n",
       "      <td>0</td>\n",
       "      <td>0</td>\n",
       "      <td>0</td>\n",
       "      <td>0</td>\n",
       "      <td>0</td>\n",
       "      <td>0</td>\n",
       "      <td>0</td>\n",
       "      <td>0</td>\n",
       "    </tr>\n",
       "    <tr>\n",
       "      <td>1</td>\n",
       "      <td>0</td>\n",
       "      <td>1</td>\n",
       "      <td>0</td>\n",
       "      <td>3</td>\n",
       "      <td>0</td>\n",
       "      <td>0</td>\n",
       "      <td>0</td>\n",
       "      <td>0</td>\n",
       "      <td>0</td>\n",
       "      <td>0</td>\n",
       "      <td>...</td>\n",
       "      <td>0</td>\n",
       "      <td>0</td>\n",
       "      <td>0</td>\n",
       "      <td>0</td>\n",
       "      <td>0</td>\n",
       "      <td>0</td>\n",
       "      <td>0</td>\n",
       "      <td>0</td>\n",
       "      <td>0</td>\n",
       "      <td>0</td>\n",
       "    </tr>\n",
       "    <tr>\n",
       "      <td>2</td>\n",
       "      <td>0</td>\n",
       "      <td>1</td>\n",
       "      <td>0</td>\n",
       "      <td>3</td>\n",
       "      <td>4</td>\n",
       "      <td>0</td>\n",
       "      <td>0</td>\n",
       "      <td>0</td>\n",
       "      <td>0</td>\n",
       "      <td>0</td>\n",
       "      <td>...</td>\n",
       "      <td>0</td>\n",
       "      <td>0</td>\n",
       "      <td>0</td>\n",
       "      <td>0</td>\n",
       "      <td>1</td>\n",
       "      <td>0</td>\n",
       "      <td>0</td>\n",
       "      <td>0</td>\n",
       "      <td>0</td>\n",
       "      <td>0</td>\n",
       "    </tr>\n",
       "    <tr>\n",
       "      <td>3</td>\n",
       "      <td>0</td>\n",
       "      <td>1</td>\n",
       "      <td>0</td>\n",
       "      <td>3</td>\n",
       "      <td>4</td>\n",
       "      <td>0</td>\n",
       "      <td>0</td>\n",
       "      <td>1</td>\n",
       "      <td>0</td>\n",
       "      <td>0</td>\n",
       "      <td>...</td>\n",
       "      <td>0</td>\n",
       "      <td>0</td>\n",
       "      <td>0</td>\n",
       "      <td>0</td>\n",
       "      <td>1</td>\n",
       "      <td>0</td>\n",
       "      <td>0</td>\n",
       "      <td>0</td>\n",
       "      <td>0</td>\n",
       "      <td>0</td>\n",
       "    </tr>\n",
       "    <tr>\n",
       "      <td>4</td>\n",
       "      <td>0</td>\n",
       "      <td>1</td>\n",
       "      <td>1</td>\n",
       "      <td>3</td>\n",
       "      <td>4</td>\n",
       "      <td>0</td>\n",
       "      <td>0</td>\n",
       "      <td>1</td>\n",
       "      <td>0</td>\n",
       "      <td>0</td>\n",
       "      <td>...</td>\n",
       "      <td>0</td>\n",
       "      <td>0</td>\n",
       "      <td>0</td>\n",
       "      <td>0</td>\n",
       "      <td>0</td>\n",
       "      <td>0</td>\n",
       "      <td>0</td>\n",
       "      <td>0</td>\n",
       "      <td>0</td>\n",
       "      <td>0</td>\n",
       "    </tr>\n",
       "  </tbody>\n",
       "</table>\n",
       "<p>5 rows × 56 columns</p>\n",
       "</div>"
      ],
      "text/plain": [
       "   telecommuting  has_company_logo  has_questions  employment_type  \\\n",
       "0              0                 1              0                4   \n",
       "1              0                 1              0                3   \n",
       "2              0                 1              0                3   \n",
       "3              0                 1              0                3   \n",
       "4              0                 1              1                3   \n",
       "\n",
       "   required_experience  fraudulent  required_education_Associate Degree  \\\n",
       "0                    1           0                                    0   \n",
       "1                    0           0                                    0   \n",
       "2                    4           0                                    0   \n",
       "3                    4           0                                    0   \n",
       "4                    4           0                                    0   \n",
       "\n",
       "   required_education_Bachelor's Degree  required_education_Certification  \\\n",
       "0                                     0                                 0   \n",
       "1                                     0                                 0   \n",
       "2                                     0                                 0   \n",
       "3                                     1                                 0   \n",
       "4                                     1                                 0   \n",
       "\n",
       "   required_education_Doctorate  ...  function_Public Relations  \\\n",
       "0                             0  ...                          0   \n",
       "1                             0  ...                          0   \n",
       "2                             0  ...                          0   \n",
       "3                             0  ...                          0   \n",
       "4                             0  ...                          0   \n",
       "\n",
       "   function_Purchasing  function_Quality Assurance  function_Research  \\\n",
       "0                    0                           0                  0   \n",
       "1                    0                           0                  0   \n",
       "2                    0                           0                  0   \n",
       "3                    0                           0                  0   \n",
       "4                    0                           0                  0   \n",
       "\n",
       "   function_Sales  function_Science  function_Strategy/Planning  \\\n",
       "0               0                 0                           0   \n",
       "1               0                 0                           0   \n",
       "2               1                 0                           0   \n",
       "3               1                 0                           0   \n",
       "4               0                 0                           0   \n",
       "\n",
       "   function_Supply Chain  function_Training  function_Writing/Editing  \n",
       "0                      0                  0                         0  \n",
       "1                      0                  0                         0  \n",
       "2                      0                  0                         0  \n",
       "3                      0                  0                         0  \n",
       "4                      0                  0                         0  \n",
       "\n",
       "[5 rows x 56 columns]"
      ]
     },
     "execution_count": 37,
     "metadata": {},
     "output_type": "execute_result"
    }
   ],
   "source": [
    "Fake_JobDataNumeric.head()"
   ]
  },
  {
   "cell_type": "code",
   "execution_count": 38,
   "metadata": {},
   "outputs": [
    {
     "data": {
      "text/plain": [
       "(17880, 56)"
      ]
     },
     "execution_count": 38,
     "metadata": {},
     "output_type": "execute_result"
    }
   ],
   "source": [
    "Fake_JobDataNumeric.shape"
   ]
  },
  {
   "cell_type": "code",
   "execution_count": 39,
   "metadata": {
    "scrolled": true
   },
   "outputs": [
    {
     "data": {
      "text/plain": [
       "Index(['telecommuting', 'has_company_logo', 'has_questions', 'employment_type',\n",
       "       'required_experience', 'fraudulent',\n",
       "       'required_education_Associate Degree',\n",
       "       'required_education_Bachelor's Degree',\n",
       "       'required_education_Certification', 'required_education_Doctorate',\n",
       "       'required_education_High School or equivalent',\n",
       "       'required_education_Master's Degree', 'required_education_Professional',\n",
       "       'required_education_Some College Coursework Completed',\n",
       "       'required_education_Some High School Coursework',\n",
       "       'required_education_Unspecified', 'required_education_Vocational',\n",
       "       'required_education_Vocational - Degree',\n",
       "       'required_education_Vocational - HS Diploma',\n",
       "       'function_Accounting/Auditing', 'function_Administrative',\n",
       "       'function_Advertising', 'function_Art/Creative',\n",
       "       'function_Business Analyst', 'function_Business Development',\n",
       "       'function_Consulting', 'function_Customer Service',\n",
       "       'function_Data Analyst', 'function_Design', 'function_Distribution',\n",
       "       'function_Education', 'function_Engineering', 'function_Finance',\n",
       "       'function_Financial Analyst', 'function_General Business',\n",
       "       'function_Health Care Provider', 'function_Human Resources',\n",
       "       'function_Information Technology', 'function_Legal',\n",
       "       'function_Management', 'function_Manufacturing', 'function_Marketing',\n",
       "       'function_Other', 'function_Product Management', 'function_Production',\n",
       "       'function_Project Management', 'function_Public Relations',\n",
       "       'function_Purchasing', 'function_Quality Assurance',\n",
       "       'function_Research', 'function_Sales', 'function_Science',\n",
       "       'function_Strategy/Planning', 'function_Supply Chain',\n",
       "       'function_Training', 'function_Writing/Editing'],\n",
       "      dtype='object')"
      ]
     },
     "execution_count": 39,
     "metadata": {},
     "output_type": "execute_result"
    }
   ],
   "source": [
    "Fake_JobDataNumeric.columns"
   ]
  },
  {
   "cell_type": "code",
   "execution_count": 40,
   "metadata": {},
   "outputs": [],
   "source": [
    "def anovaTest(inpData, SelectedCols, Target):\n",
    "    from scipy.stats import chi2_contingency\n",
    "    for colName in SelectedCols:\n",
    "        CrossTabResult = pd.crosstab(columns=inpData[Target], index=inpData[colName])\n",
    "        Anova = chi2_contingency(CrossTabResult)\n",
    "        print(Anova[1])\n",
    "        if(Anova[1]>0.05):\n",
    "            print(colName, 'Not Correlated')\n",
    "        else:\n",
    "            print('Correlated')"
   ]
  },
  {
   "cell_type": "code",
   "execution_count": 41,
   "metadata": {
    "scrolled": true
   },
   "outputs": [
    {
     "name": "stdout",
     "output_type": "stream",
     "text": [
      "0.033444186249115354\n",
      "Correlated\n",
      "1.015836360513021e-43\n",
      "Correlated\n",
      "0.005713179683221855\n",
      "Correlated\n",
      "0.5973486226487004\n",
      "required_education_Doctorate Not Correlated\n",
      "2.700238437545094e-31\n",
      "Correlated\n",
      "0.008454765971354762\n",
      "Correlated\n",
      "0.6127210715436573\n",
      "required_education_Professional Not Correlated\n",
      "0.7177556309655415\n",
      "required_education_Some College Coursework Completed Not Correlated\n",
      "3.8612086121669385e-64\n",
      "Correlated\n",
      "0.003342712098013922\n",
      "Correlated\n",
      "0.08062331721016883\n",
      "required_education_Vocational Not Correlated\n",
      "0.9207071834308963\n",
      "required_education_Vocational - Degree Not Correlated\n",
      "0.6531953460790354\n",
      "required_education_Vocational - HS Diploma Not Correlated\n",
      "2.7072394634358486e-24\n",
      "Correlated\n",
      "3.02181239437184e-98\n",
      "Correlated\n",
      "0.10531332566377719\n",
      "function_Advertising Not Correlated\n",
      "0.047406866061228556\n",
      "Correlated\n",
      "0.05066516659280936\n",
      "function_Business Analyst Not Correlated\n",
      "0.908746656020995\n",
      "function_Business Development Not Correlated\n",
      "0.4029784790148969\n",
      "function_Consulting Not Correlated\n",
      "0.8372337606408798\n",
      "function_Customer Service Not Correlated\n",
      "0.5044994109587095\n",
      "function_Data Analyst Not Correlated\n",
      "0.00027284999926867006\n",
      "Correlated\n",
      "0.46428187801924914\n",
      "function_Distribution Not Correlated\n",
      "0.0007063003280310069\n",
      "Correlated\n",
      "0.00021722957771541104\n",
      "Correlated\n",
      "0.0006532968923213472\n",
      "Correlated\n",
      "0.0008080713901919562\n",
      "Correlated\n",
      "0.9262283332069299\n",
      "function_General Business Not Correlated\n",
      "0.00022818643677862955\n",
      "Correlated\n",
      "0.574919246322495\n",
      "function_Human Resources Not Correlated\n",
      "7.629820507946912e-11\n",
      "Correlated\n",
      "0.09132685961292182\n",
      "function_Legal Not Correlated\n",
      "0.0003354512934584823\n",
      "Correlated\n",
      "0.5158068309304229\n",
      "function_Manufacturing Not Correlated\n",
      "5.106897385659393e-06\n",
      "Correlated\n",
      "1.2229338897145835e-07\n",
      "Correlated\n",
      "0.01177619471049288\n",
      "Correlated\n",
      "0.004018115996757087\n",
      "Correlated\n",
      "0.8139665425752416\n",
      "function_Project Management Not Correlated\n",
      "0.14507967044181216\n",
      "function_Public Relations Not Correlated\n",
      "0.625239275924611\n",
      "function_Purchasing Not Correlated\n",
      "0.17581440611687293\n",
      "function_Quality Assurance Not Correlated\n",
      "0.08851641029974282\n",
      "function_Research Not Correlated\n",
      "0.004271261164357786\n",
      "Correlated\n",
      "0.6531953460790354\n",
      "function_Science Not Correlated\n",
      "0.4359911397177314\n",
      "function_Strategy/Planning Not Correlated\n",
      "0.8947008913808163\n",
      "function_Supply Chain Not Correlated\n",
      "0.1068827302252829\n",
      "function_Training Not Correlated\n",
      "0.017708790580219968\n",
      "Correlated\n"
     ]
    }
   ],
   "source": [
    "anovaTest(Fake_JobDataNumeric, SelectedCols=['required_education_Associate Degree',\n",
    "       '''required_education_Bachelor's Degree''',\n",
    "       'required_education_Certification', 'required_education_Doctorate',\n",
    "       'required_education_High School or equivalent',\n",
    "       '''required_education_Master's Degree''', 'required_education_Professional',\n",
    "       'required_education_Some College Coursework Completed',\n",
    "       'required_education_Some High School Coursework',\n",
    "       'required_education_Unspecified', 'required_education_Vocational',\n",
    "       'required_education_Vocational - Degree',\n",
    "       'required_education_Vocational - HS Diploma',\n",
    "       'function_Accounting/Auditing', 'function_Administrative',\n",
    "       'function_Advertising', 'function_Art/Creative',\n",
    "       'function_Business Analyst', 'function_Business Development',\n",
    "       'function_Consulting', 'function_Customer Service',\n",
    "       'function_Data Analyst', 'function_Design', 'function_Distribution',\n",
    "       'function_Education', 'function_Engineering', 'function_Finance',\n",
    "       'function_Financial Analyst', 'function_General Business',\n",
    "       'function_Health Care Provider', 'function_Human Resources',\n",
    "       'function_Information Technology', 'function_Legal',\n",
    "       'function_Management', 'function_Manufacturing', 'function_Marketing',\n",
    "       'function_Other', 'function_Product Management', 'function_Production',\n",
    "       'function_Project Management', 'function_Public Relations',\n",
    "       'function_Purchasing', 'function_Quality Assurance',\n",
    "       'function_Research', 'function_Sales', 'function_Science',\n",
    "       'function_Strategy/Planning', 'function_Supply Chain',\n",
    "       'function_Training', 'function_Writing/Editing'], Target='fraudulent')"
   ]
  },
  {
   "cell_type": "code",
   "execution_count": 42,
   "metadata": {},
   "outputs": [
    {
     "data": {
      "text/html": [
       "<div>\n",
       "<style scoped>\n",
       "    .dataframe tbody tr th:only-of-type {\n",
       "        vertical-align: middle;\n",
       "    }\n",
       "\n",
       "    .dataframe tbody tr th {\n",
       "        vertical-align: top;\n",
       "    }\n",
       "\n",
       "    .dataframe thead th {\n",
       "        text-align: right;\n",
       "    }\n",
       "</style>\n",
       "<table border=\"1\" class=\"dataframe\">\n",
       "  <thead>\n",
       "    <tr style=\"text-align: right;\">\n",
       "      <th></th>\n",
       "      <th>telecommuting</th>\n",
       "      <th>has_company_logo</th>\n",
       "      <th>has_questions</th>\n",
       "      <th>employment_type</th>\n",
       "      <th>required_experience</th>\n",
       "      <th>fraudulent</th>\n",
       "      <th>required_education_Associate Degree</th>\n",
       "      <th>required_education_Bachelor's Degree</th>\n",
       "      <th>required_education_Certification</th>\n",
       "      <th>required_education_Doctorate</th>\n",
       "      <th>...</th>\n",
       "      <th>function_Public Relations</th>\n",
       "      <th>function_Purchasing</th>\n",
       "      <th>function_Quality Assurance</th>\n",
       "      <th>function_Research</th>\n",
       "      <th>function_Sales</th>\n",
       "      <th>function_Science</th>\n",
       "      <th>function_Strategy/Planning</th>\n",
       "      <th>function_Supply Chain</th>\n",
       "      <th>function_Training</th>\n",
       "      <th>function_Writing/Editing</th>\n",
       "    </tr>\n",
       "  </thead>\n",
       "  <tbody>\n",
       "    <tr>\n",
       "      <td>0</td>\n",
       "      <td>0</td>\n",
       "      <td>1</td>\n",
       "      <td>0</td>\n",
       "      <td>4</td>\n",
       "      <td>1</td>\n",
       "      <td>0</td>\n",
       "      <td>0</td>\n",
       "      <td>0</td>\n",
       "      <td>0</td>\n",
       "      <td>0</td>\n",
       "      <td>...</td>\n",
       "      <td>0</td>\n",
       "      <td>0</td>\n",
       "      <td>0</td>\n",
       "      <td>0</td>\n",
       "      <td>0</td>\n",
       "      <td>0</td>\n",
       "      <td>0</td>\n",
       "      <td>0</td>\n",
       "      <td>0</td>\n",
       "      <td>0</td>\n",
       "    </tr>\n",
       "    <tr>\n",
       "      <td>1</td>\n",
       "      <td>0</td>\n",
       "      <td>1</td>\n",
       "      <td>0</td>\n",
       "      <td>3</td>\n",
       "      <td>0</td>\n",
       "      <td>0</td>\n",
       "      <td>0</td>\n",
       "      <td>0</td>\n",
       "      <td>0</td>\n",
       "      <td>0</td>\n",
       "      <td>...</td>\n",
       "      <td>0</td>\n",
       "      <td>0</td>\n",
       "      <td>0</td>\n",
       "      <td>0</td>\n",
       "      <td>0</td>\n",
       "      <td>0</td>\n",
       "      <td>0</td>\n",
       "      <td>0</td>\n",
       "      <td>0</td>\n",
       "      <td>0</td>\n",
       "    </tr>\n",
       "    <tr>\n",
       "      <td>2</td>\n",
       "      <td>0</td>\n",
       "      <td>1</td>\n",
       "      <td>0</td>\n",
       "      <td>3</td>\n",
       "      <td>4</td>\n",
       "      <td>0</td>\n",
       "      <td>0</td>\n",
       "      <td>0</td>\n",
       "      <td>0</td>\n",
       "      <td>0</td>\n",
       "      <td>...</td>\n",
       "      <td>0</td>\n",
       "      <td>0</td>\n",
       "      <td>0</td>\n",
       "      <td>0</td>\n",
       "      <td>1</td>\n",
       "      <td>0</td>\n",
       "      <td>0</td>\n",
       "      <td>0</td>\n",
       "      <td>0</td>\n",
       "      <td>0</td>\n",
       "    </tr>\n",
       "    <tr>\n",
       "      <td>3</td>\n",
       "      <td>0</td>\n",
       "      <td>1</td>\n",
       "      <td>0</td>\n",
       "      <td>3</td>\n",
       "      <td>4</td>\n",
       "      <td>0</td>\n",
       "      <td>0</td>\n",
       "      <td>1</td>\n",
       "      <td>0</td>\n",
       "      <td>0</td>\n",
       "      <td>...</td>\n",
       "      <td>0</td>\n",
       "      <td>0</td>\n",
       "      <td>0</td>\n",
       "      <td>0</td>\n",
       "      <td>1</td>\n",
       "      <td>0</td>\n",
       "      <td>0</td>\n",
       "      <td>0</td>\n",
       "      <td>0</td>\n",
       "      <td>0</td>\n",
       "    </tr>\n",
       "    <tr>\n",
       "      <td>4</td>\n",
       "      <td>0</td>\n",
       "      <td>1</td>\n",
       "      <td>1</td>\n",
       "      <td>3</td>\n",
       "      <td>4</td>\n",
       "      <td>0</td>\n",
       "      <td>0</td>\n",
       "      <td>1</td>\n",
       "      <td>0</td>\n",
       "      <td>0</td>\n",
       "      <td>...</td>\n",
       "      <td>0</td>\n",
       "      <td>0</td>\n",
       "      <td>0</td>\n",
       "      <td>0</td>\n",
       "      <td>0</td>\n",
       "      <td>0</td>\n",
       "      <td>0</td>\n",
       "      <td>0</td>\n",
       "      <td>0</td>\n",
       "      <td>0</td>\n",
       "    </tr>\n",
       "  </tbody>\n",
       "</table>\n",
       "<p>5 rows × 56 columns</p>\n",
       "</div>"
      ],
      "text/plain": [
       "   telecommuting  has_company_logo  has_questions  employment_type  \\\n",
       "0              0                 1              0                4   \n",
       "1              0                 1              0                3   \n",
       "2              0                 1              0                3   \n",
       "3              0                 1              0                3   \n",
       "4              0                 1              1                3   \n",
       "\n",
       "   required_experience  fraudulent  required_education_Associate Degree  \\\n",
       "0                    1           0                                    0   \n",
       "1                    0           0                                    0   \n",
       "2                    4           0                                    0   \n",
       "3                    4           0                                    0   \n",
       "4                    4           0                                    0   \n",
       "\n",
       "   required_education_Bachelor's Degree  required_education_Certification  \\\n",
       "0                                     0                                 0   \n",
       "1                                     0                                 0   \n",
       "2                                     0                                 0   \n",
       "3                                     1                                 0   \n",
       "4                                     1                                 0   \n",
       "\n",
       "   required_education_Doctorate  ...  function_Public Relations  \\\n",
       "0                             0  ...                          0   \n",
       "1                             0  ...                          0   \n",
       "2                             0  ...                          0   \n",
       "3                             0  ...                          0   \n",
       "4                             0  ...                          0   \n",
       "\n",
       "   function_Purchasing  function_Quality Assurance  function_Research  \\\n",
       "0                    0                           0                  0   \n",
       "1                    0                           0                  0   \n",
       "2                    0                           0                  0   \n",
       "3                    0                           0                  0   \n",
       "4                    0                           0                  0   \n",
       "\n",
       "   function_Sales  function_Science  function_Strategy/Planning  \\\n",
       "0               0                 0                           0   \n",
       "1               0                 0                           0   \n",
       "2               1                 0                           0   \n",
       "3               1                 0                           0   \n",
       "4               0                 0                           0   \n",
       "\n",
       "   function_Supply Chain  function_Training  function_Writing/Editing  \n",
       "0                      0                  0                         0  \n",
       "1                      0                  0                         0  \n",
       "2                      0                  0                         0  \n",
       "3                      0                  0                         0  \n",
       "4                      0                  0                         0  \n",
       "\n",
       "[5 rows x 56 columns]"
      ]
     },
     "execution_count": 42,
     "metadata": {},
     "output_type": "execute_result"
    }
   ],
   "source": [
    "Fake_JobDataNumeric.head()"
   ]
  },
  {
   "cell_type": "code",
   "execution_count": 43,
   "metadata": {},
   "outputs": [],
   "source": [
    "Predictors = ['required_education_Associate Degree',\n",
    "       '''required_education_Bachelor's Degree''',\n",
    "       'required_education_Certification', 'required_education_Doctorate',\n",
    "       'required_education_High School or equivalent',\n",
    "       '''required_education_Master's Degree''', 'required_education_Professional',\n",
    "       'required_education_Some College Coursework Completed',\n",
    "       'required_education_Some High School Coursework',\n",
    "       'required_education_Unspecified', 'required_education_Vocational',\n",
    "       'required_education_Vocational - Degree',\n",
    "       'required_education_Vocational - HS Diploma',\n",
    "       'function_Accounting/Auditing', 'function_Administrative',\n",
    "       'function_Advertising', 'function_Art/Creative',\n",
    "       'function_Business Analyst', 'function_Business Development',\n",
    "       'function_Consulting', 'function_Customer Service',\n",
    "       'function_Data Analyst', 'function_Design', 'function_Distribution',\n",
    "       'function_Education', 'function_Engineering', 'function_Finance',\n",
    "       'function_Financial Analyst', 'function_General Business',\n",
    "       'function_Health Care Provider', 'function_Human Resources',\n",
    "       'function_Information Technology', 'function_Legal',\n",
    "       'function_Management', 'function_Manufacturing', 'function_Marketing',\n",
    "       'function_Other', 'function_Product Management', 'function_Production',\n",
    "       'function_Project Management', 'function_Public Relations',\n",
    "       'function_Purchasing', 'function_Quality Assurance',\n",
    "       'function_Research', 'function_Sales', 'function_Science',\n",
    "       'function_Strategy/Planning', 'function_Supply Chain',\n",
    "       'function_Training', 'function_Writing/Editing']\n",
    "Target = ['fraudulent']\n",
    "X = Fake_JobDataNumeric[Predictors].values\n",
    "y = Fake_JobDataNumeric[Target].values"
   ]
  },
  {
   "cell_type": "code",
   "execution_count": 44,
   "metadata": {},
   "outputs": [
    {
     "name": "stdout",
     "output_type": "stream",
     "text": [
      "Number transactions X_train dataset:  (13410, 50)\n",
      "Number transactions y_train dataset:  (13410, 1)\n",
      "Number transactions X_test dataset:  (4470, 50)\n",
      "Number transactions y_test dataset:  (4470, 1)\n"
     ]
    }
   ],
   "source": [
    "from sklearn.model_selection import train_test_split\n",
    "X_train, X_test, y_train, y_test = train_test_split(X, y, test_size = 0.25, random_state = 42)\n",
    "print(\"Number transactions X_train dataset: \", X_train.shape)\n",
    "print(\"Number transactions y_train dataset: \", y_train.shape)\n",
    "print(\"Number transactions X_test dataset: \", X_test.shape)\n",
    "print(\"Number transactions y_test dataset: \", y_test.shape)"
   ]
  },
  {
   "cell_type": "code",
   "execution_count": 45,
   "metadata": {},
   "outputs": [
    {
     "name": "stderr",
     "output_type": "stream",
     "text": [
      "C:\\Users\\sovon\\Anaconda3\\lib\\site-packages\\sklearn\\utils\\validation.py:73: DataConversionWarning: A column-vector y was passed when a 1d array was expected. Please change the shape of y to (n_samples, ), for example using ravel().\n",
      "  return f(**kwargs)\n"
     ]
    },
    {
     "name": "stdout",
     "output_type": "stream",
     "text": [
      "              precision    recall  f1-score   support\n",
      "\n",
      "           0       0.95      1.00      0.97      4247\n",
      "           1       0.58      0.03      0.06       223\n",
      "\n",
      "    accuracy                           0.95      4470\n",
      "   macro avg       0.77      0.52      0.52      4470\n",
      "weighted avg       0.93      0.95      0.93      4470\n",
      "\n",
      "[[4242    5]\n",
      " [ 216    7]]\n"
     ]
    }
   ],
   "source": [
    "from sklearn.linear_model import LogisticRegression\n",
    "lr = LogisticRegression(C = 5, penalty='l1', solver='liblinear')\n",
    "lrRegModel = lr.fit(X_train, y_train)\n",
    "lrPrediction = lrRegModel.predict(X_test)\n",
    "from sklearn import metrics\n",
    "print(metrics.classification_report(y_test, lrPrediction))\n",
    "print(metrics.confusion_matrix(y_test, lrPrediction))"
   ]
  },
  {
   "cell_type": "code",
   "execution_count": 46,
   "metadata": {},
   "outputs": [
    {
     "name": "stdout",
     "output_type": "stream",
     "text": [
      "              precision    recall  f1-score   support\n",
      "\n",
      "           0       0.95      1.00      0.97      4247\n",
      "           1       0.58      0.03      0.06       223\n",
      "\n",
      "    accuracy                           0.95      4470\n",
      "   macro avg       0.77      0.52      0.52      4470\n",
      "weighted avg       0.93      0.95      0.93      4470\n",
      "\n",
      "[[4242    5]\n",
      " [ 216    7]]\n"
     ]
    }
   ],
   "source": [
    "from sklearn.tree import DecisionTreeClassifier\n",
    "dt = DecisionTreeClassifier(max_depth=10, criterion='entropy')\n",
    "dtRegModel = dt.fit(X_train, y_train)\n",
    "dtPrediction = dtRegModel.predict(X_test)\n",
    "print(metrics.classification_report(y_test, dtPrediction))\n",
    "print(metrics.confusion_matrix(y_test, dtPrediction))"
   ]
  },
  {
   "cell_type": "code",
   "execution_count": 47,
   "metadata": {},
   "outputs": [
    {
     "data": {
      "text/plain": [
       "<matplotlib.axes._subplots.AxesSubplot at 0x182efc19a08>"
      ]
     },
     "execution_count": 47,
     "metadata": {},
     "output_type": "execute_result"
    },
    {
     "data": {
      "image/png": "[encoded data removed]",
      "text/plain": [
       "<Figure size 720x720 with 1 Axes>"
      ]
     },
     "metadata": {
      "needs_background": "light"
     },
     "output_type": "display_data"
    }
   ],
   "source": [
    "feature_importances = pd.Series(dtRegModel.feature_importances_, index=Predictors)\n",
    "feature_importances.nlargest(50).plot(kind = 'barh', figsize=(10,10))"
   ]
  },
  {
   "cell_type": "code",
   "execution_count": 48,
   "metadata": {},
   "outputs": [
    {
     "name": "stderr",
     "output_type": "stream",
     "text": [
      "C:\\Users\\sovon\\Anaconda3\\lib\\site-packages\\ipykernel_launcher.py:3: DataConversionWarning: A column-vector y was passed when a 1d array was expected. Please change the shape of y to (n_samples,), for example using ravel().\n",
      "  This is separate from the ipykernel package so we can avoid doing imports until\n"
     ]
    },
    {
     "name": "stdout",
     "output_type": "stream",
     "text": [
      "              precision    recall  f1-score   support\n",
      "\n",
      "           0       0.95      1.00      0.97      4247\n",
      "           1       0.00      0.00      0.00       223\n",
      "\n",
      "    accuracy                           0.95      4470\n",
      "   macro avg       0.48      0.50      0.49      4470\n",
      "weighted avg       0.90      0.95      0.93      4470\n",
      "\n",
      "[[4247    0]\n",
      " [ 223    0]]\n"
     ]
    },
    {
     "name": "stderr",
     "output_type": "stream",
     "text": [
      "C:\\Users\\sovon\\Anaconda3\\lib\\site-packages\\sklearn\\metrics\\_classification.py:1221: UndefinedMetricWarning: Precision and F-score are ill-defined and being set to 0.0 in labels with no predicted samples. Use `zero_division` parameter to control this behavior.\n",
      "  _warn_prf(average, modifier, msg_start, len(result))\n"
     ]
    }
   ],
   "source": [
    "from sklearn.ensemble import RandomForestClassifier\n",
    "rf = RandomForestClassifier(max_depth=4, n_estimators=200)\n",
    "rfRegModel = rf.fit(X_train, y_train)\n",
    "rfPrediction = rfRegModel.predict(X_test)\n",
    "print(metrics.classification_report(y_test, rfPrediction))\n",
    "print(metrics.confusion_matrix(y_test, rfPrediction))"
   ]
  },
  {
   "cell_type": "code",
   "execution_count": 49,
   "metadata": {},
   "outputs": [
    {
     "name": "stderr",
     "output_type": "stream",
     "text": [
      "C:\\Users\\sovon\\Anaconda3\\lib\\site-packages\\sklearn\\utils\\validation.py:73: DataConversionWarning: A column-vector y was passed when a 1d array was expected. Please change the shape of y to (n_samples, ), for example using ravel().\n",
      "  return f(**kwargs)\n"
     ]
    },
    {
     "name": "stdout",
     "output_type": "stream",
     "text": [
      "              precision    recall  f1-score   support\n",
      "\n",
      "           0       0.95      1.00      0.97      4247\n",
      "           1       0.58      0.03      0.06       223\n",
      "\n",
      "    accuracy                           0.95      4470\n",
      "   macro avg       0.77      0.52      0.52      4470\n",
      "weighted avg       0.93      0.95      0.93      4470\n",
      "\n",
      "[[4242    5]\n",
      " [ 216    7]]\n"
     ]
    }
   ],
   "source": [
    "from sklearn.ensemble import AdaBoostClassifier\n",
    "from sklearn.tree import DecisionTreeClassifier\n",
    "dt = DecisionTreeClassifier(max_depth=1)\n",
    "ab = AdaBoostClassifier(learning_rate=0.5, n_estimators=500, base_estimator=dt)\n",
    "abRegModel = ab.fit(X_train, y_train)\n",
    "abPrediction = abRegModel.predict(X_test)\n",
    "print(metrics.classification_report(y_test, abPrediction))\n",
    "print(metrics.confusion_matrix(y_test, abPrediction))"
   ]
  },
  {
   "cell_type": "code",
   "execution_count": 50,
   "metadata": {},
   "outputs": [
    {
     "name": "stderr",
     "output_type": "stream",
     "text": [
      "C:\\Users\\sovon\\Anaconda3\\lib\\site-packages\\sklearn\\utils\\validation.py:73: DataConversionWarning: A column-vector y was passed when a 1d array was expected. Please change the shape of y to (n_samples, ), for example using ravel().\n",
      "  return f(**kwargs)\n"
     ]
    },
    {
     "name": "stdout",
     "output_type": "stream",
     "text": [
      "              precision    recall  f1-score   support\n",
      "\n",
      "           0       0.95      1.00      0.97      4247\n",
      "           1       0.58      0.03      0.06       223\n",
      "\n",
      "    accuracy                           0.95      4470\n",
      "   macro avg       0.77      0.52      0.52      4470\n",
      "weighted avg       0.93      0.95      0.93      4470\n",
      "\n",
      "[[4242    5]\n",
      " [ 216    7]]\n"
     ]
    }
   ],
   "source": [
    "from xgboost import XGBClassifier\n",
    "xgb = XGBClassifier(learning_rate=0.2, booster='gbtree', max_depth=5, n_estimators=100)\n",
    "xgbRegModel = xgb.fit(X_train, y_train)\n",
    "xgbPrediction = xgbRegModel.predict(X_test)\n",
    "print(metrics.classification_report(y_test, xgbPrediction))\n",
    "print(metrics.confusion_matrix(y_test, xgbPrediction))"
   ]
  },
  {
   "cell_type": "code",
   "execution_count": 51,
   "metadata": {},
   "outputs": [],
   "source": [
    "from sklearn.model_selection import cross_val_score"
   ]
  },
  {
   "cell_type": "code",
   "execution_count": 53,
   "metadata": {},
   "outputs": [
    {
     "name": "stderr",
     "output_type": "stream",
     "text": [
      "C:\\Users\\sovon\\Anaconda3\\lib\\site-packages\\sklearn\\utils\\validation.py:73: DataConversionWarning: A column-vector y was passed when a 1d array was expected. Please change the shape of y to (n_samples, ), for example using ravel().\n",
      "  return f(**kwargs)\n"
     ]
    },
    {
     "name": "stdout",
     "output_type": "stream",
     "text": [
      "[0.92844497 0.92981678 0.9278857  0.92844497 0.94510551 0.92734053\n",
      " 0.9351501  0.92811628 0.93033898 0.92899188]\n",
      "Final accuracy values 0.9309635692754602\n"
     ]
    }
   ],
   "source": [
    "accuracy_values = cross_val_score(xgbRegModel, X,y,cv=10, scoring='f1_weighted')\n",
    "print(accuracy_values)\n",
    "print('Final accuracy values', accuracy_values.mean())"
   ]
  },
  {
   "cell_type": "code",
   "execution_count": 55,
   "metadata": {},
   "outputs": [],
   "source": [
    "FinalXGBModel = xgbRegModel.fit(X,y.ravel())"
   ]
  },
  {
   "cell_type": "code",
   "execution_count": 57,
   "metadata": {},
   "outputs": [],
   "source": [
    "import pickle\n",
    "with open('FinalXGBModel.pkl', 'wb') as FileWriteStream:\n",
    "    pickle.dump(FinalXGBModel, FileWriteStream)\n",
    "    FileWriteStream.close()"
   ]
  },
  {
   "cell_type": "code",
   "execution_count": 67,
   "metadata": {},
   "outputs": [],
   "source": [
    "def predictFakeJob(inputDetails):\n",
    "    with open('FinalXGBModel.pkl', 'rb') as fileReadStream:\n",
    "        XGB_reg_Model = pickle.load(fileReadStream)\n",
    "        fileReadStream.close()\n",
    "    prediction = XGB_reg_Model.predict(inputDetails)\n",
    "    predictedStatus = pd.DataFrame(prediction, columns=['Predictedvalue'])\n",
    "    return(predictedStatus)"
   ]
  },
  {
   "cell_type": "code",
   "execution_count": 69,
   "metadata": {},
   "outputs": [
    {
     "data": {
      "text/html": [
       "<div>\n",
       "<style scoped>\n",
       "    .dataframe tbody tr th:only-of-type {\n",
       "        vertical-align: middle;\n",
       "    }\n",
       "\n",
       "    .dataframe tbody tr th {\n",
       "        vertical-align: top;\n",
       "    }\n",
       "\n",
       "    .dataframe thead th {\n",
       "        text-align: right;\n",
       "    }\n",
       "</style>\n",
       "<table border=\"1\" class=\"dataframe\">\n",
       "  <thead>\n",
       "    <tr style=\"text-align: right;\">\n",
       "      <th></th>\n",
       "      <th>Predictedvalue</th>\n",
       "    </tr>\n",
       "  </thead>\n",
       "  <tbody>\n",
       "    <tr>\n",
       "      <td>0</td>\n",
       "      <td>0</td>\n",
       "    </tr>\n",
       "    <tr>\n",
       "      <td>1</td>\n",
       "      <td>0</td>\n",
       "    </tr>\n",
       "    <tr>\n",
       "      <td>2</td>\n",
       "      <td>0</td>\n",
       "    </tr>\n",
       "    <tr>\n",
       "      <td>3</td>\n",
       "      <td>0</td>\n",
       "    </tr>\n",
       "    <tr>\n",
       "      <td>4</td>\n",
       "      <td>0</td>\n",
       "    </tr>\n",
       "    <tr>\n",
       "      <td>5</td>\n",
       "      <td>0</td>\n",
       "    </tr>\n",
       "    <tr>\n",
       "      <td>6</td>\n",
       "      <td>0</td>\n",
       "    </tr>\n",
       "    <tr>\n",
       "      <td>7</td>\n",
       "      <td>0</td>\n",
       "    </tr>\n",
       "    <tr>\n",
       "      <td>8</td>\n",
       "      <td>0</td>\n",
       "    </tr>\n",
       "    <tr>\n",
       "      <td>9</td>\n",
       "      <td>0</td>\n",
       "    </tr>\n",
       "  </tbody>\n",
       "</table>\n",
       "</div>"
      ],
      "text/plain": [
       "   Predictedvalue\n",
       "0               0\n",
       "1               0\n",
       "2               0\n",
       "3               0\n",
       "4               0\n",
       "5               0\n",
       "6               0\n",
       "7               0\n",
       "8               0\n",
       "9               0"
      ]
     },
     "execution_count": 69,
     "metadata": {},
     "output_type": "execute_result"
    }
   ],
   "source": [
    "predictFakeJob(X[0:10])"
   ]
  }
 ],
 "metadata": {
  "kernelspec": {
   "display_name": "Python 3",
   "language": "python",
   "name": "python3"
  },
  "language_info": {
   "codemirror_mode": {
    "name": "ipython",
    "version": 3
   },
   "file_extension": ".py",
   "mimetype": "text/x-python",
   "name": "python",
   "nbconvert_exporter": "python",
   "pygments_lexer": "ipython3",
   "version": "3.7.4"
  }
 },
 "nbformat": 4,
 "nbformat_minor": 2
}
